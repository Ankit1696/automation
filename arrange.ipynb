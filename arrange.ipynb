{
 "cells": [
  {
   "cell_type": "code",
   "execution_count": 14,
   "id": "78466770",
   "metadata": {},
   "outputs": [
    {
     "name": "stdout",
     "output_type": "stream",
     "text": [
      "Moved '.DS_Store' to 'OtherFiles' folder.\n",
      "Moved 'LICENSE' to 'OtherFiles' folder.\n",
      "Moved 'NOTICE' to 'OtherFiles' folder.\n",
      "Moved 'README.txt' to 'TextFiles' folder.\n"
     ]
    }
   ],
   "source": [
    "import os\n",
    "import shutil\n",
    "\n",
    "def organize_downloads(PATH):\n",
    "    # Path to the Downloads folder\n",
    "    downloads_path = os.path.expanduser(PATH)\n",
    "\n",
    "    # Get a list of all files in the Downloads folder\n",
    "    files = os.listdir(downloads_path)\n",
    "\n",
    "    for file in files:\n",
    "        # Full path to the file\n",
    "        file_path = os.path.join(downloads_path, file)\n",
    "\n",
    "        # Check if it's a file (not a directory)\n",
    "        if os.path.isfile(file_path):\n",
    "            # Get the file extension (converted to lowercase)\n",
    "            _, file_extension = os.path.splitext(file)\n",
    "            file_extension = file_extension.lower()\n",
    "\n",
    "            # Define folders based on file extensions\n",
    "            folders = {\n",
    "                '.txt': 'TextFiles',\n",
    "                '.pdf': 'PDFs',\n",
    "                '.jpg': 'Images',\n",
    "                '.png': 'Images',\n",
    "                '.zip': 'Archives',\n",
    "                '.docx': 'Documents',\n",
    "                '.pptx': 'Documents',\n",
    "                '.xlsx': 'Documents',\n",
    "                '.dmg': 'installer',\n",
    "                '.ipynb': 'Jupyter-Notebook'\n",
    "                # Add more file extensions and corresponding folders as needed\n",
    "            }\n",
    "\n",
    "            # Get the destination folder based on the file extension\n",
    "            destination_folder = folders.get(file_extension, 'OtherFiles')\n",
    "\n",
    "            # Create the destination folder if it doesn't exist\n",
    "            destination_path = os.path.join(downloads_path, destination_folder)\n",
    "            os.makedirs(destination_path, exist_ok=True)\n",
    "\n",
    "            try:\n",
    "                # Move the file to the destination folder\n",
    "                shutil.move(file_path, os.path.join(destination_path, file))\n",
    "                print(f\"Moved '{file}' to '{destination_folder}' folder.\")\n",
    "            except Exception as e:\n",
    "                print(f\"Error moving '{file}': {e}\")\n",
    "\n",
    "if __name__ == \"__main__\":\n",
    "    organize_downloads(\"~/Downloads\")\n"
   ]
  },
  {
   "cell_type": "code",
   "execution_count": null,
   "id": "0bb24ddc",
   "metadata": {},
   "outputs": [],
   "source": []
  },
  {
   "cell_type": "code",
   "execution_count": null,
   "id": "85a3865c",
   "metadata": {},
   "outputs": [],
   "source": []
  }
 ],
 "metadata": {
  "kernelspec": {
   "display_name": "Python 3 (ipykernel)",
   "language": "python",
   "name": "python3"
  },
  "language_info": {
   "codemirror_mode": {
    "name": "ipython",
    "version": 3
   },
   "file_extension": ".py",
   "mimetype": "text/x-python",
   "name": "python",
   "nbconvert_exporter": "python",
   "pygments_lexer": "ipython3",
   "version": "3.10.9"
  }
 },
 "nbformat": 4,
 "nbformat_minor": 5
}
